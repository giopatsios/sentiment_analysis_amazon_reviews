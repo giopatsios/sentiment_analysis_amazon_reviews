{
 "cells": [
  {
   "cell_type": "markdown",
   "id": "a8dcbf1c-1941-4d8f-9c54-0ba9287bfb7a",
   "metadata": {},
   "source": [
    "# Sentiment Analysis of Amazon Reviews"
   ]
  },
  {
   "cell_type": "code",
   "execution_count": 1,
   "id": "d09b019b-f992-4681-8890-630b7a62e397",
   "metadata": {
    "tags": []
   },
   "outputs": [],
   "source": [
    "import pandas as pd\n",
    "import numpy as np\n",
    "import matplotlib.pyplot as plt\n",
    "import seaborn as sns\n",
    "\n",
    "plt.style.use('ggplot')\n",
    "\n",
    "import nltk"
   ]
  },
  {
   "cell_type": "markdown",
   "id": "87605569-4b5e-4d05-9619-9f24722a3bd6",
   "metadata": {
    "tags": []
   },
   "source": [
    "## 1. Setup and NLTK (natural language toolkit)"
   ]
  },
  {
   "cell_type": "code",
   "execution_count": 2,
   "id": "1c66e83b-cb2b-4f7d-9a15-392f2f5c2db0",
   "metadata": {
    "tags": []
   },
   "outputs": [],
   "source": [
    "data = pd.read_csv('amazon_reviews.csv')"
   ]
  },
  {
   "cell_type": "code",
   "execution_count": 3,
   "id": "1890df44-eb94-4810-96c0-7acaa7e51cb1",
   "metadata": {
    "tags": []
   },
   "outputs": [
    {
     "data": {
      "text/html": [
       "<div>\n",
       "<style scoped>\n",
       "    .dataframe tbody tr th:only-of-type {\n",
       "        vertical-align: middle;\n",
       "    }\n",
       "\n",
       "    .dataframe tbody tr th {\n",
       "        vertical-align: top;\n",
       "    }\n",
       "\n",
       "    .dataframe thead th {\n",
       "        text-align: right;\n",
       "    }\n",
       "</style>\n",
       "<table border=\"1\" class=\"dataframe\">\n",
       "  <thead>\n",
       "    <tr style=\"text-align: right;\">\n",
       "      <th></th>\n",
       "      <th>Id</th>\n",
       "      <th>ProductId</th>\n",
       "      <th>UserId</th>\n",
       "      <th>ProfileName</th>\n",
       "      <th>HelpfulnessNumerator</th>\n",
       "      <th>HelpfulnessDenominator</th>\n",
       "      <th>Score</th>\n",
       "      <th>Time</th>\n",
       "      <th>Summary</th>\n",
       "      <th>Text</th>\n",
       "    </tr>\n",
       "  </thead>\n",
       "  <tbody>\n",
       "    <tr>\n",
       "      <th>0</th>\n",
       "      <td>1</td>\n",
       "      <td>B001E4KFG0</td>\n",
       "      <td>A3SGXH7AUHU8GW</td>\n",
       "      <td>delmartian</td>\n",
       "      <td>1</td>\n",
       "      <td>1</td>\n",
       "      <td>5</td>\n",
       "      <td>1303862400</td>\n",
       "      <td>Good Quality Dog Food</td>\n",
       "      <td>I have bought several of the Vitality canned d...</td>\n",
       "    </tr>\n",
       "    <tr>\n",
       "      <th>1</th>\n",
       "      <td>2</td>\n",
       "      <td>B00813GRG4</td>\n",
       "      <td>A1D87F6ZCVE5NK</td>\n",
       "      <td>dll pa</td>\n",
       "      <td>0</td>\n",
       "      <td>0</td>\n",
       "      <td>1</td>\n",
       "      <td>1346976000</td>\n",
       "      <td>Not as Advertised</td>\n",
       "      <td>Product arrived labeled as Jumbo Salted Peanut...</td>\n",
       "    </tr>\n",
       "    <tr>\n",
       "      <th>2</th>\n",
       "      <td>3</td>\n",
       "      <td>B000LQOCH0</td>\n",
       "      <td>ABXLMWJIXXAIN</td>\n",
       "      <td>Natalia Corres \"Natalia Corres\"</td>\n",
       "      <td>1</td>\n",
       "      <td>1</td>\n",
       "      <td>4</td>\n",
       "      <td>1219017600</td>\n",
       "      <td>\"Delight\" says it all</td>\n",
       "      <td>This is a confection that has been around a fe...</td>\n",
       "    </tr>\n",
       "    <tr>\n",
       "      <th>3</th>\n",
       "      <td>4</td>\n",
       "      <td>B000UA0QIQ</td>\n",
       "      <td>A395BORC6FGVXV</td>\n",
       "      <td>Karl</td>\n",
       "      <td>3</td>\n",
       "      <td>3</td>\n",
       "      <td>2</td>\n",
       "      <td>1307923200</td>\n",
       "      <td>Cough Medicine</td>\n",
       "      <td>If you are looking for the secret ingredient i...</td>\n",
       "    </tr>\n",
       "    <tr>\n",
       "      <th>4</th>\n",
       "      <td>5</td>\n",
       "      <td>B006K2ZZ7K</td>\n",
       "      <td>A1UQRSCLF8GW1T</td>\n",
       "      <td>Michael D. Bigham \"M. Wassir\"</td>\n",
       "      <td>0</td>\n",
       "      <td>0</td>\n",
       "      <td>5</td>\n",
       "      <td>1350777600</td>\n",
       "      <td>Great taffy</td>\n",
       "      <td>Great taffy at a great price.  There was a wid...</td>\n",
       "    </tr>\n",
       "  </tbody>\n",
       "</table>\n",
       "</div>"
      ],
      "text/plain": [
       "   Id   ProductId          UserId                      ProfileName  \\\n",
       "0   1  B001E4KFG0  A3SGXH7AUHU8GW                       delmartian   \n",
       "1   2  B00813GRG4  A1D87F6ZCVE5NK                           dll pa   \n",
       "2   3  B000LQOCH0   ABXLMWJIXXAIN  Natalia Corres \"Natalia Corres\"   \n",
       "3   4  B000UA0QIQ  A395BORC6FGVXV                             Karl   \n",
       "4   5  B006K2ZZ7K  A1UQRSCLF8GW1T    Michael D. Bigham \"M. Wassir\"   \n",
       "\n",
       "   HelpfulnessNumerator  HelpfulnessDenominator  Score        Time  \\\n",
       "0                     1                       1      5  1303862400   \n",
       "1                     0                       0      1  1346976000   \n",
       "2                     1                       1      4  1219017600   \n",
       "3                     3                       3      2  1307923200   \n",
       "4                     0                       0      5  1350777600   \n",
       "\n",
       "                 Summary                                               Text  \n",
       "0  Good Quality Dog Food  I have bought several of the Vitality canned d...  \n",
       "1      Not as Advertised  Product arrived labeled as Jumbo Salted Peanut...  \n",
       "2  \"Delight\" says it all  This is a confection that has been around a fe...  \n",
       "3         Cough Medicine  If you are looking for the secret ingredient i...  \n",
       "4            Great taffy  Great taffy at a great price.  There was a wid...  "
      ]
     },
     "execution_count": 3,
     "metadata": {},
     "output_type": "execute_result"
    }
   ],
   "source": [
    "data.head()"
   ]
  },
  {
   "cell_type": "code",
   "execution_count": 4,
   "id": "54591560-91f7-482a-9dd2-dbc45a12fbad",
   "metadata": {
    "tags": []
   },
   "outputs": [
    {
     "name": "stdout",
     "output_type": "stream",
     "text": [
      "(568454, 10)\n"
     ]
    }
   ],
   "source": [
    "print(data.shape)"
   ]
  },
  {
   "cell_type": "code",
   "execution_count": 5,
   "id": "7bfae5bd-8597-495d-901c-9d24e565cf8a",
   "metadata": {
    "tags": []
   },
   "outputs": [],
   "source": [
    "# let us take a sample\n",
    "\n",
    "df = data.sample(500)"
   ]
  },
  {
   "cell_type": "code",
   "execution_count": 6,
   "id": "5b36e6d9-adc0-4b76-8f80-c021444c1d6f",
   "metadata": {
    "tags": []
   },
   "outputs": [
    {
     "data": {
      "text/html": [
       "<div>\n",
       "<style scoped>\n",
       "    .dataframe tbody tr th:only-of-type {\n",
       "        vertical-align: middle;\n",
       "    }\n",
       "\n",
       "    .dataframe tbody tr th {\n",
       "        vertical-align: top;\n",
       "    }\n",
       "\n",
       "    .dataframe thead th {\n",
       "        text-align: right;\n",
       "    }\n",
       "</style>\n",
       "<table border=\"1\" class=\"dataframe\">\n",
       "  <thead>\n",
       "    <tr style=\"text-align: right;\">\n",
       "      <th></th>\n",
       "      <th>Id</th>\n",
       "      <th>ProductId</th>\n",
       "      <th>UserId</th>\n",
       "      <th>ProfileName</th>\n",
       "      <th>HelpfulnessNumerator</th>\n",
       "      <th>HelpfulnessDenominator</th>\n",
       "      <th>Score</th>\n",
       "      <th>Time</th>\n",
       "      <th>Summary</th>\n",
       "      <th>Text</th>\n",
       "    </tr>\n",
       "  </thead>\n",
       "  <tbody>\n",
       "    <tr>\n",
       "      <th>143295</th>\n",
       "      <td>143296</td>\n",
       "      <td>B0007A0AQM</td>\n",
       "      <td>A17IGFR37ISWPL</td>\n",
       "      <td>L. Smith \"Love to run\"</td>\n",
       "      <td>9</td>\n",
       "      <td>10</td>\n",
       "      <td>5</td>\n",
       "      <td>1268870400</td>\n",
       "      <td>Great for training!</td>\n",
       "      <td>Surprised of the bad reviews because of the sm...</td>\n",
       "    </tr>\n",
       "    <tr>\n",
       "      <th>262447</th>\n",
       "      <td>262448</td>\n",
       "      <td>B002B9HC6I</td>\n",
       "      <td>A8R9QNGTLV2LT</td>\n",
       "      <td>Justin</td>\n",
       "      <td>1</td>\n",
       "      <td>1</td>\n",
       "      <td>5</td>\n",
       "      <td>1258416000</td>\n",
       "      <td>good sauce</td>\n",
       "      <td>I really enjoy this sauce. It has a great heat...</td>\n",
       "    </tr>\n",
       "    <tr>\n",
       "      <th>233686</th>\n",
       "      <td>233687</td>\n",
       "      <td>B0044CZ6UO</td>\n",
       "      <td>ANYD5OP35KI3A</td>\n",
       "      <td>mommy of twins</td>\n",
       "      <td>0</td>\n",
       "      <td>0</td>\n",
       "      <td>4</td>\n",
       "      <td>1316995200</td>\n",
       "      <td>not for all kids</td>\n",
       "      <td>This particular flavor got mixed reviews from ...</td>\n",
       "    </tr>\n",
       "    <tr>\n",
       "      <th>88855</th>\n",
       "      <td>88856</td>\n",
       "      <td>B000FZRYE0</td>\n",
       "      <td>A2KCFKGL40GRNF</td>\n",
       "      <td>Marie V. Poinan</td>\n",
       "      <td>0</td>\n",
       "      <td>0</td>\n",
       "      <td>5</td>\n",
       "      <td>1342915200</td>\n",
       "      <td>Great value noodles</td>\n",
       "      <td>Well worth the money, especially on auto-ship....</td>\n",
       "    </tr>\n",
       "    <tr>\n",
       "      <th>411426</th>\n",
       "      <td>411427</td>\n",
       "      <td>B000G1EO1Y</td>\n",
       "      <td>A3IYSIAKYOMKTO</td>\n",
       "      <td>Renter</td>\n",
       "      <td>0</td>\n",
       "      <td>0</td>\n",
       "      <td>5</td>\n",
       "      <td>1292371200</td>\n",
       "      <td>Your Burps Will Taste Delicious</td>\n",
       "      <td>I was expecting this soup to be more like Goya...</td>\n",
       "    </tr>\n",
       "  </tbody>\n",
       "</table>\n",
       "</div>"
      ],
      "text/plain": [
       "            Id   ProductId          UserId             ProfileName  \\\n",
       "143295  143296  B0007A0AQM  A17IGFR37ISWPL  L. Smith \"Love to run\"   \n",
       "262447  262448  B002B9HC6I   A8R9QNGTLV2LT                  Justin   \n",
       "233686  233687  B0044CZ6UO   ANYD5OP35KI3A          mommy of twins   \n",
       "88855    88856  B000FZRYE0  A2KCFKGL40GRNF         Marie V. Poinan   \n",
       "411426  411427  B000G1EO1Y  A3IYSIAKYOMKTO                  Renter   \n",
       "\n",
       "        HelpfulnessNumerator  HelpfulnessDenominator  Score        Time  \\\n",
       "143295                     9                      10      5  1268870400   \n",
       "262447                     1                       1      5  1258416000   \n",
       "233686                     0                       0      4  1316995200   \n",
       "88855                      0                       0      5  1342915200   \n",
       "411426                     0                       0      5  1292371200   \n",
       "\n",
       "                                Summary  \\\n",
       "143295              Great for training!   \n",
       "262447                       good sauce   \n",
       "233686                 not for all kids   \n",
       "88855               Great value noodles   \n",
       "411426  Your Burps Will Taste Delicious   \n",
       "\n",
       "                                                     Text  \n",
       "143295  Surprised of the bad reviews because of the sm...  \n",
       "262447  I really enjoy this sauce. It has a great heat...  \n",
       "233686  This particular flavor got mixed reviews from ...  \n",
       "88855   Well worth the money, especially on auto-ship....  \n",
       "411426  I was expecting this soup to be more like Goya...  "
      ]
     },
     "execution_count": 6,
     "metadata": {},
     "output_type": "execute_result"
    }
   ],
   "source": [
    "df.head()"
   ]
  },
  {
   "cell_type": "markdown",
   "id": "72e15559-3d82-46de-a599-b483d5f4722f",
   "metadata": {},
   "source": [
    "### Quick EDA"
   ]
  },
  {
   "cell_type": "code",
   "execution_count": 7,
   "id": "d4382c1d-c28d-43de-935a-16a775716566",
   "metadata": {
    "tags": []
   },
   "outputs": [
    {
     "data": {
      "image/png": "[encoded data removed]",
      "text/plain": [
       "<Figure size 1000x500 with 1 Axes>"
      ]
     },
     "metadata": {},
     "output_type": "display_data"
    }
   ],
   "source": [
    "ax = df['Score'].value_counts().sort_index().plot(kind='bar', \n",
    "                                             title='Count Review by Stars',\n",
    "                                             figsize=(10,5))\n",
    "ax.set_label('Review Stars')\n",
    "plt.show()\n",
    "\n",
    "# biased towards positive reviews"
   ]
  },
  {
   "cell_type": "markdown",
   "id": "2a7b1546-63ba-4a71-9989-f15d1103d846",
   "metadata": {},
   "source": [
    "### Basic NLTK"
   ]
  },
  {
   "cell_type": "code",
   "execution_count": 8,
   "id": "497e9a27-09c0-4f38-a05d-4d0c6c09f0ec",
   "metadata": {
    "tags": []
   },
   "outputs": [
    {
     "name": "stdout",
     "output_type": "stream",
     "text": [
      "the tea is great. i tried the peach one a pf change and loved it so decided to try other ones. the earl grey one was kind of strong but all the rest was just what i like in  a tea.\n"
     ]
    }
   ],
   "source": [
    "example = df['Text'].iloc[50]\n",
    "print(example)"
   ]
  },
  {
   "cell_type": "code",
   "execution_count": 9,
   "id": "b009ad0d-357a-46a0-ae8e-2a0082a379c7",
   "metadata": {
    "tags": []
   },
   "outputs": [
    {
     "name": "stderr",
     "output_type": "stream",
     "text": [
      "[nltk_data] Downloading package punkt to\n",
      "[nltk_data]     C:\\Users\\geopa\\AppData\\Roaming\\nltk_data...\n",
      "[nltk_data]   Package punkt is already up-to-date!\n"
     ]
    },
    {
     "data": {
      "text/plain": [
       "['the', 'tea', 'is', 'great', '.', 'i', 'tried', 'the', 'peach', 'one']"
      ]
     },
     "execution_count": 9,
     "metadata": {},
     "output_type": "execute_result"
    }
   ],
   "source": [
    "import nltk\n",
    "nltk.download('punkt')\n",
    "\n",
    "# tokenizing results but not perfect. certainly better thna splitting\n",
    "tokens = nltk.word_tokenize(example)\n",
    "tokens[:10]"
   ]
  },
  {
   "cell_type": "code",
   "execution_count": 10,
   "id": "9c020b15-3f78-4162-bdb8-29fcd890857f",
   "metadata": {
    "tags": []
   },
   "outputs": [
    {
     "name": "stderr",
     "output_type": "stream",
     "text": [
      "[nltk_data] Downloading package averaged_perceptron_tagger to\n",
      "[nltk_data]     C:\\Users\\geopa\\AppData\\Roaming\\nltk_data...\n",
      "[nltk_data]   Package averaged_perceptron_tagger is already up-to-\n",
      "[nltk_data]       date!\n"
     ]
    },
    {
     "data": {
      "text/plain": [
       "[('the', 'DT'),\n",
       " ('tea', 'NN'),\n",
       " ('is', 'VBZ'),\n",
       " ('great', 'JJ'),\n",
       " ('.', '.'),\n",
       " ('i', 'NN'),\n",
       " ('tried', 'VBD'),\n",
       " ('the', 'DT'),\n",
       " ('peach', 'NN'),\n",
       " ('one', 'CD')]"
      ]
     },
     "execution_count": 10,
     "metadata": {},
     "output_type": "execute_result"
    }
   ],
   "source": [
    "nltk.download('averaged_perceptron_tagger')\n",
    "\n",
    "# find the part of speech for each of these words\n",
    "tagged = nltk.pos_tag(tokens)\n",
    "tagged[:10]\n",
    "\n",
    "# check out this: https://cheatography.com/deacondesperado/cheat-sheets/nltk-part-of-speech-tags/\n",
    "# for reference"
   ]
  },
  {
   "cell_type": "code",
   "execution_count": 11,
   "id": "c9cd6e67-76dd-4ca6-b6a3-84d0d8fe6c02",
   "metadata": {
    "tags": []
   },
   "outputs": [
    {
     "name": "stderr",
     "output_type": "stream",
     "text": [
      "[nltk_data] Downloading package maxent_ne_chunker to\n",
      "[nltk_data]     C:\\Users\\geopa\\AppData\\Roaming\\nltk_data...\n",
      "[nltk_data]   Package maxent_ne_chunker is already up-to-date!\n",
      "[nltk_data] Downloading package words to\n",
      "[nltk_data]     C:\\Users\\geopa\\AppData\\Roaming\\nltk_data...\n",
      "[nltk_data]   Package words is already up-to-date!\n"
     ]
    },
    {
     "name": "stdout",
     "output_type": "stream",
     "text": [
      "(S\n",
      "  the/DT\n",
      "  tea/NN\n",
      "  is/VBZ\n",
      "  great/JJ\n",
      "  ./.\n",
      "  i/NN\n",
      "  tried/VBD\n",
      "  the/DT\n",
      "  peach/NN\n",
      "  one/CD\n",
      "  a/DT\n",
      "  pf/NN\n",
      "  change/NN\n",
      "  and/CC\n",
      "  loved/VBD\n",
      "  it/PRP\n",
      "  so/RB\n",
      "  decided/VBD\n",
      "  to/TO\n",
      "  try/VB\n",
      "  other/JJ\n",
      "  ones/NNS\n",
      "  ./.\n",
      "  the/DT\n",
      "  earl/NN\n",
      "  grey/VBD\n",
      "  one/CD\n",
      "  was/VBD\n",
      "  kind/NN\n",
      "  of/IN\n",
      "  strong/JJ\n",
      "  but/CC\n",
      "  all/PDT\n",
      "  the/DT\n",
      "  rest/NN\n",
      "  was/VBD\n",
      "  just/RB\n",
      "  what/WP\n",
      "  i/VBP\n",
      "  like/VBP\n",
      "  in/IN\n",
      "  a/DT\n",
      "  tea/NN\n",
      "  ./.)\n"
     ]
    }
   ],
   "source": [
    "nltk.download('maxent_ne_chunker')\n",
    "nltk.download('words')\n",
    "\n",
    "\n",
    "# groups tokens into chunks of text\n",
    "entities = nltk.chunk.ne_chunk(tagged)\n",
    "entities.pprint()"
   ]
  },
  {
   "cell_type": "markdown",
   "id": "18e516e4-641d-4350-92bc-f390291a3a43",
   "metadata": {},
   "source": [
    "### VADER - Valence Aware Dictionary and sEntiment Reasoner"
   ]
  },
  {
   "cell_type": "markdown",
   "id": "b33762f8-0497-4ac5-976c-8889623fdafc",
   "metadata": {},
   "source": [
    "### 1. Sentiment Analysis\n",
    "> 1. Stop words are removed (and, the, a, it, ...)\n",
    "> 2. -1, 0, 1 scores"
   ]
  },
  {
   "cell_type": "code",
   "execution_count": 12,
   "id": "07d0cc91-d606-4175-9733-4968f794ed23",
   "metadata": {
    "tags": []
   },
   "outputs": [
    {
     "name": "stderr",
     "output_type": "stream",
     "text": [
      "[nltk_data] Downloading package vader_lexicon to\n",
      "[nltk_data]     C:\\Users\\geopa\\AppData\\Roaming\\nltk_data...\n",
      "[nltk_data]   Package vader_lexicon is already up-to-date!\n"
     ]
    }
   ],
   "source": [
    "from nltk.sentiment import SentimentIntensityAnalyzer\n",
    "from tqdm.notebook import tqdm\n",
    "\n",
    "nltk.download('vader_lexicon')\n",
    "\n",
    "sia = SentimentIntensityAnalyzer()"
   ]
  },
  {
   "cell_type": "code",
   "execution_count": 13,
   "id": "165a9960-abe3-4748-810d-e677db54c442",
   "metadata": {
    "tags": []
   },
   "outputs": [
    {
     "data": {
      "text/plain": [
       "{'neg': 0.0, 'neu': 0.318, 'pos': 0.682, 'compound': 0.6468}"
      ]
     },
     "execution_count": 13,
     "metadata": {},
     "output_type": "execute_result"
    }
   ],
   "source": [
    "sia.polarity_scores('I am so happy!') # values are (-1,1)"
   ]
  },
  {
   "cell_type": "code",
   "execution_count": 14,
   "id": "f00fd7f4-f123-4d61-9f7b-981a443a0a05",
   "metadata": {
    "tags": []
   },
   "outputs": [
    {
     "data": {
      "text/plain": [
       "{'neg': 0.583, 'neu': 0.417, 'pos': 0.0, 'compound': -0.4199}"
      ]
     },
     "execution_count": 14,
     "metadata": {},
     "output_type": "execute_result"
    }
   ],
   "source": [
    "sia.polarity_scores('This movie sucks!') # values are (-1,1)"
   ]
  },
  {
   "cell_type": "code",
   "execution_count": 15,
   "id": "d06d274a-53c2-455c-a18a-f8652a4291fa",
   "metadata": {
    "tags": []
   },
   "outputs": [
    {
     "data": {
      "text/plain": [
       "{'neg': 0.0, 'neu': 1.0, 'pos': 0.0, 'compound': 0.0}"
      ]
     },
     "execution_count": 15,
     "metadata": {},
     "output_type": "execute_result"
    }
   ],
   "source": [
    "sia.polarity_scores(\"I really don't know man!\") # values are (-1,1)"
   ]
  },
  {
   "cell_type": "code",
   "execution_count": 16,
   "id": "d5349e05-259c-4236-9885-ab8bc658b32d",
   "metadata": {
    "tags": []
   },
   "outputs": [
    {
     "data": {
      "text/plain": [
       "{'neg': 0.0, 'neu': 0.738, 'pos': 0.262, 'compound': 0.8539}"
      ]
     },
     "execution_count": 16,
     "metadata": {},
     "output_type": "execute_result"
    }
   ],
   "source": [
    "sia.polarity_scores(example)"
   ]
  },
  {
   "cell_type": "code",
   "execution_count": 17,
   "id": "294cc8e4-ea56-4d73-9cdc-1f3eb57f60e4",
   "metadata": {
    "tags": []
   },
   "outputs": [
    {
     "data": {
      "application/vnd.jupyter.widget-view+json": {
       "model_id": "05a061d9b29b447293fc7c8544426d62",
       "version_major": 2,
       "version_minor": 0
      },
      "text/plain": [
       "  0%|          | 0/500 [00:00<?, ?it/s]"
      ]
     },
     "metadata": {},
     "output_type": "display_data"
    }
   ],
   "source": [
    "# Run the polarity score on the entire dataset\n",
    "res = {}\n",
    "for i, row in tqdm(df.iterrows(), total=len(df)):\n",
    "    text = row['Text']\n",
    "    myid = row['Id']\n",
    "    res[myid] = sia.polarity_scores(text)"
   ]
  },
  {
   "cell_type": "code",
   "execution_count": 18,
   "id": "aaa475c4-a09c-4738-a327-d2e4e896e555",
   "metadata": {
    "tags": []
   },
   "outputs": [],
   "source": [
    "vaders = pd.DataFrame(res).T # transpose in dataframes\n",
    "vaders = vaders.reset_index().rename(columns={'index' : 'Id'})\n",
    "vaders = vaders.merge(df, how='left')"
   ]
  },
  {
   "cell_type": "code",
   "execution_count": 19,
   "id": "8d55410a-6433-46f5-bd36-5e249fc3c803",
   "metadata": {},
   "outputs": [
    {
     "data": {
      "text/html": [
       "<div>\n",
       "<style scoped>\n",
       "    .dataframe tbody tr th:only-of-type {\n",
       "        vertical-align: middle;\n",
       "    }\n",
       "\n",
       "    .dataframe tbody tr th {\n",
       "        vertical-align: top;\n",
       "    }\n",
       "\n",
       "    .dataframe thead th {\n",
       "        text-align: right;\n",
       "    }\n",
       "</style>\n",
       "<table border=\"1\" class=\"dataframe\">\n",
       "  <thead>\n",
       "    <tr style=\"text-align: right;\">\n",
       "      <th></th>\n",
       "      <th>Id</th>\n",
       "      <th>neg</th>\n",
       "      <th>neu</th>\n",
       "      <th>pos</th>\n",
       "      <th>compound</th>\n",
       "      <th>ProductId</th>\n",
       "      <th>UserId</th>\n",
       "      <th>ProfileName</th>\n",
       "      <th>HelpfulnessNumerator</th>\n",
       "      <th>HelpfulnessDenominator</th>\n",
       "      <th>Score</th>\n",
       "      <th>Time</th>\n",
       "      <th>Summary</th>\n",
       "      <th>Text</th>\n",
       "    </tr>\n",
       "  </thead>\n",
       "  <tbody>\n",
       "    <tr>\n",
       "      <th>0</th>\n",
       "      <td>143296</td>\n",
       "      <td>0.071</td>\n",
       "      <td>0.650</td>\n",
       "      <td>0.279</td>\n",
       "      <td>0.9898</td>\n",
       "      <td>B0007A0AQM</td>\n",
       "      <td>A17IGFR37ISWPL</td>\n",
       "      <td>L. Smith \"Love to run\"</td>\n",
       "      <td>9</td>\n",
       "      <td>10</td>\n",
       "      <td>5</td>\n",
       "      <td>1268870400</td>\n",
       "      <td>Great for training!</td>\n",
       "      <td>Surprised of the bad reviews because of the sm...</td>\n",
       "    </tr>\n",
       "    <tr>\n",
       "      <th>1</th>\n",
       "      <td>262448</td>\n",
       "      <td>0.000</td>\n",
       "      <td>0.792</td>\n",
       "      <td>0.208</td>\n",
       "      <td>0.8487</td>\n",
       "      <td>B002B9HC6I</td>\n",
       "      <td>A8R9QNGTLV2LT</td>\n",
       "      <td>Justin</td>\n",
       "      <td>1</td>\n",
       "      <td>1</td>\n",
       "      <td>5</td>\n",
       "      <td>1258416000</td>\n",
       "      <td>good sauce</td>\n",
       "      <td>I really enjoy this sauce. It has a great heat...</td>\n",
       "    </tr>\n",
       "    <tr>\n",
       "      <th>2</th>\n",
       "      <td>233687</td>\n",
       "      <td>0.144</td>\n",
       "      <td>0.722</td>\n",
       "      <td>0.134</td>\n",
       "      <td>-0.0772</td>\n",
       "      <td>B0044CZ6UO</td>\n",
       "      <td>ANYD5OP35KI3A</td>\n",
       "      <td>mommy of twins</td>\n",
       "      <td>0</td>\n",
       "      <td>0</td>\n",
       "      <td>4</td>\n",
       "      <td>1316995200</td>\n",
       "      <td>not for all kids</td>\n",
       "      <td>This particular flavor got mixed reviews from ...</td>\n",
       "    </tr>\n",
       "    <tr>\n",
       "      <th>3</th>\n",
       "      <td>88856</td>\n",
       "      <td>0.000</td>\n",
       "      <td>0.441</td>\n",
       "      <td>0.559</td>\n",
       "      <td>0.9498</td>\n",
       "      <td>B000FZRYE0</td>\n",
       "      <td>A2KCFKGL40GRNF</td>\n",
       "      <td>Marie V. Poinan</td>\n",
       "      <td>0</td>\n",
       "      <td>0</td>\n",
       "      <td>5</td>\n",
       "      <td>1342915200</td>\n",
       "      <td>Great value noodles</td>\n",
       "      <td>Well worth the money, especially on auto-ship....</td>\n",
       "    </tr>\n",
       "    <tr>\n",
       "      <th>4</th>\n",
       "      <td>411427</td>\n",
       "      <td>0.000</td>\n",
       "      <td>0.787</td>\n",
       "      <td>0.213</td>\n",
       "      <td>0.9828</td>\n",
       "      <td>B000G1EO1Y</td>\n",
       "      <td>A3IYSIAKYOMKTO</td>\n",
       "      <td>Renter</td>\n",
       "      <td>0</td>\n",
       "      <td>0</td>\n",
       "      <td>5</td>\n",
       "      <td>1292371200</td>\n",
       "      <td>Your Burps Will Taste Delicious</td>\n",
       "      <td>I was expecting this soup to be more like Goya...</td>\n",
       "    </tr>\n",
       "  </tbody>\n",
       "</table>\n",
       "</div>"
      ],
      "text/plain": [
       "       Id    neg    neu    pos  compound   ProductId          UserId  \\\n",
       "0  143296  0.071  0.650  0.279    0.9898  B0007A0AQM  A17IGFR37ISWPL   \n",
       "1  262448  0.000  0.792  0.208    0.8487  B002B9HC6I   A8R9QNGTLV2LT   \n",
       "2  233687  0.144  0.722  0.134   -0.0772  B0044CZ6UO   ANYD5OP35KI3A   \n",
       "3   88856  0.000  0.441  0.559    0.9498  B000FZRYE0  A2KCFKGL40GRNF   \n",
       "4  411427  0.000  0.787  0.213    0.9828  B000G1EO1Y  A3IYSIAKYOMKTO   \n",
       "\n",
       "              ProfileName  HelpfulnessNumerator  HelpfulnessDenominator  \\\n",
       "0  L. Smith \"Love to run\"                     9                      10   \n",
       "1                  Justin                     1                       1   \n",
       "2          mommy of twins                     0                       0   \n",
       "3         Marie V. Poinan                     0                       0   \n",
       "4                  Renter                     0                       0   \n",
       "\n",
       "   Score        Time                          Summary  \\\n",
       "0      5  1268870400              Great for training!   \n",
       "1      5  1258416000                       good sauce   \n",
       "2      4  1316995200                 not for all kids   \n",
       "3      5  1342915200              Great value noodles   \n",
       "4      5  1292371200  Your Burps Will Taste Delicious   \n",
       "\n",
       "                                                Text  \n",
       "0  Surprised of the bad reviews because of the sm...  \n",
       "1  I really enjoy this sauce. It has a great heat...  \n",
       "2  This particular flavor got mixed reviews from ...  \n",
       "3  Well worth the money, especially on auto-ship....  \n",
       "4  I was expecting this soup to be more like Goya...  "
      ]
     },
     "execution_count": 19,
     "metadata": {},
     "output_type": "execute_result"
    }
   ],
   "source": [
    "# now we have sentiment score and metadata\n",
    "vaders.head()"
   ]
  },
  {
   "cell_type": "markdown",
   "id": "589dfb11-7490-4f3c-8e94-4dfe70c37705",
   "metadata": {},
   "source": [
    "### 2. Plot VADER results"
   ]
  },
  {
   "cell_type": "code",
   "execution_count": 20,
   "id": "ab82ccc6-8a40-49e2-bc7e-3505238d3e39",
   "metadata": {
    "tags": []
   },
   "outputs": [
    {
     "data": {
      "image/png": "[encoded data removed]",
      "text/plain": [
       "<Figure size 640x480 with 1 Axes>"
      ]
     },
     "metadata": {},
     "output_type": "display_data"
    }
   ],
   "source": [
    "# let assume if 5 score means more positive than 1 \n",
    "ax = sns.barplot(data=vaders, x='Score', y='compound')\n",
    "ax.set_title('Compound Score by Amazon Star Review')\n",
    "plt.show()\n",
    "# validates what we assumed"
   ]
  },
  {
   "cell_type": "code",
   "execution_count": 21,
   "id": "72f03e65-a2d2-40d0-b44a-db8289f442be",
   "metadata": {
    "tags": []
   },
   "outputs": [
    {
     "data": {
      "image/png": "[encoded data removed]",
      "text/plain": [
       "<Figure size 1200x300 with 3 Axes>"
      ]
     },
     "metadata": {},
     "output_type": "display_data"
    }
   ],
   "source": [
    "fig, axs = plt.subplots(1, 3, figsize=(12,3))\n",
    "ax = sns.barplot(data=vaders, x='Score', y='pos', ax=axs[0])\n",
    "ax = sns.barplot(data=vaders, x='Score', y='neu', ax=axs[1])\n",
    "ax = sns.barplot(data=vaders, x='Score', y='neg', ax=axs[2])\n",
    "axs[0].set_title('Positive')\n",
    "axs[1].set_title('Neutral')\n",
    "axs[2].set_title('Negative')\n",
    "plt.tight_layout()\n",
    "plt.show()"
   ]
  },
  {
   "cell_type": "markdown",
   "id": "73461f82-01ce-4005-b5ff-584c14b7ff17",
   "metadata": {},
   "source": [
    "### 3. Roberta Pretrained Model"
   ]
  },
  {
   "cell_type": "markdown",
   "id": "777ea267-b660-4e74-9667-7ad1e928a145",
   "metadata": {},
   "source": [
    "> Model trained of a large corpus of data\n",
    "> Accounts for words, but also context"
   ]
  },
  {
   "cell_type": "code",
   "execution_count": 22,
   "id": "d0cad8a3-65fa-43f4-bbcf-c5269ad0ca4b",
   "metadata": {
    "tags": []
   },
   "outputs": [],
   "source": [
    "from transformers import AutoTokenizer\n",
    "from transformers import AutoModelForSequenceClassification\n",
    "from scipy.special import softmax"
   ]
  },
  {
   "cell_type": "code",
   "execution_count": 80,
   "id": "552d0e20-28a1-4633-ad69-68bf60bf167c",
   "metadata": {
    "tags": []
   },
   "outputs": [],
   "source": [
    "MODEL = f\"cardiffnlp/twitter-roberta-base-sentiment\"\n",
    "tokenizer = AutoTokenizer.from_pretrained(MODEL)\n",
    "model = AutoModelForSequenceClassification.from_pretrained(MODEL)"
   ]
  },
  {
   "cell_type": "code",
   "execution_count": 24,
   "id": "9467bcc4-cdf4-437a-891e-14bd5428bd17",
   "metadata": {
    "tags": []
   },
   "outputs": [
    {
     "name": "stdout",
     "output_type": "stream",
     "text": [
      "the tea is great. i tried the peach one a pf change and loved it so decided to try other ones. the earl grey one was kind of strong but all the rest was just what i like in  a tea.\n"
     ]
    },
    {
     "data": {
      "text/plain": [
       "{'neg': 0.0, 'neu': 0.738, 'pos': 0.262, 'compound': 0.8539}"
      ]
     },
     "execution_count": 24,
     "metadata": {},
     "output_type": "execute_result"
    }
   ],
   "source": [
    "# VADER results on example \n",
    "print(example)\n",
    "sia.polarity_scores(example)"
   ]
  },
  {
   "cell_type": "code",
   "execution_count": 82,
   "id": "04e5f01b-3dfa-4ddd-a526-0f9863ab6a2f",
   "metadata": {
    "tags": []
   },
   "outputs": [
    {
     "name": "stderr",
     "output_type": "stream",
     "text": [
      "C:\\Users\\geopa\\AppData\\Local\\Temp\\ipykernel_19044\\1631170620.py:9: UserWarning: To copy construct from a tensor, it is recommended to use sourceTensor.clone().detach() or sourceTensor.clone().detach().requires_grad_(True), rather than torch.tensor(sourceTensor).\n",
      "  score = torch.softmax(torch.tensor(scores), dim=0)\n"
     ]
    }
   ],
   "source": [
    "import numpy \n",
    "import torch\n",
    "\n",
    "# Run for Roberta Model \n",
    "encoded_text = tokenizer(example, return_tensors = 'pt')\n",
    "output = model(**encoded_text)\n",
    "output # <- tensor\n",
    "scores = output[0][0].detach()\n",
    "score = torch.softmax(torch.tensor(scores), dim=0)\n",
    "scores_dict = {\n",
    "    'roberta_neg' : scores[0],\n",
    "    'roberta_neu' : scores[1],\n",
    "    'roberta_pos' : scores[2]\n",
    "}"
   ]
  },
  {
   "cell_type": "code",
   "execution_count": 27,
   "id": "74e3cecd-8a07-4c76-b3b5-9c6b1c2d50c7",
   "metadata": {
    "tags": []
   },
   "outputs": [
    {
     "data": {
      "text/plain": [
       "{'roberta_neg': tensor(-2.6377),\n",
       " 'roberta_neu': tensor(-0.5002),\n",
       " 'roberta_pos': tensor(3.9560)}"
      ]
     },
     "execution_count": 27,
     "metadata": {},
     "output_type": "execute_result"
    }
   ],
   "source": [
    "scores_dict"
   ]
  },
  {
   "cell_type": "code",
   "execution_count": 55,
   "id": "b60fb56d-2042-4400-b728-379ac94c451e",
   "metadata": {
    "tags": []
   },
   "outputs": [],
   "source": [
    "def polarity_scores_roberta(example):\n",
    "    encoded_text = tokenizer(example, return_tensors = 'pt')\n",
    "    output = model(**encoded_text)\n",
    "    output # <- tensor\n",
    "    scores = output[0][0].detach()\n",
    "    score = torch.softmax(scores, dim=0)\n",
    "    scores_dict = {\n",
    "        'roberta_neg' : scores[0],\n",
    "        'roberta_neu' : scores[1],\n",
    "        'roberta_pos' : scores[2]\n",
    "    }\n",
    "    return scores_dict"
   ]
  },
  {
   "cell_type": "code",
   "execution_count": 57,
   "id": "e23de517-074c-47fe-b64f-6ea46aac816e",
   "metadata": {},
   "outputs": [
    {
     "data": {
      "application/vnd.jupyter.widget-view+json": {
       "model_id": "d9343c14f23748d0a5d0a0f57d87fb6c",
       "version_major": 2,
       "version_minor": 0
      },
      "text/plain": [
       "  0%|          | 0/500 [00:00<?, ?it/s]"
      ]
     },
     "metadata": {},
     "output_type": "display_data"
    },
    {
     "name": "stdout",
     "output_type": "stream",
     "text": [
      "Broke for id 28426\n",
      "Broke for id 98042\n",
      "Broke for id 125250\n",
      "Broke for id 385846\n"
     ]
    }
   ],
   "source": [
    "res = {}\n",
    "for i, row in tqdm(df.iterrows(), total=len(df)):\n",
    "    try:\n",
    "        text = row['Text']\n",
    "        myid = row['Id']\n",
    "        vader_result = sia.polarity_scores(text)\n",
    "        vader_result_rename = {}\n",
    "        for key, value in vader_result.items():\n",
    "            vader_result_rename[f\"vader_{key}\"] = value    \n",
    "        roberta_result = polarity_scores_roberta(text)\n",
    "        both = {**vader_result, **roberta_result}\n",
    "\n",
    "        res[myid] = both\n",
    "    \n",
    "    except RuntimeError:\n",
    "        print(f\"Broke for id {myid}\")\n",
    "    \n",
    "    "
   ]
  },
  {
   "cell_type": "code",
   "execution_count": 52,
   "id": "6d7ecbd6-0fb7-4fbc-9404-badd52b0d867",
   "metadata": {
    "tags": []
   },
   "outputs": [
    {
     "data": {
      "text/plain": [
       "{'neg': 0.0,\n",
       " 'neu': 0.769,\n",
       " 'pos': 0.231,\n",
       " 'compound': 0.6597,\n",
       " 'roberta_neg': tensor(-2.9392),\n",
       " 'roberta_neu': tensor(-0.0380),\n",
       " 'roberta_pos': tensor(3.4526)}"
      ]
     },
     "execution_count": 52,
     "metadata": {},
     "output_type": "execute_result"
    }
   ],
   "source": [
    "# we can lower the amount size of thsoe to make it work\n",
    "# it was a bit slow but because it was running on cpu, which we can run on a gpu as well"
   ]
  },
  {
   "cell_type": "code",
   "execution_count": 58,
   "id": "8ccf913d-b2a8-44aa-a9b4-5e0bae47b9fa",
   "metadata": {
    "tags": []
   },
   "outputs": [],
   "source": [
    "results_df = pd.DataFrame(res).T # transpose in dataframes\n",
    "results_df = results_df.reset_index().rename(columns={'index' : 'Id'})\n",
    "results_df = results_df.merge(df, how='left')"
   ]
  },
  {
   "cell_type": "code",
   "execution_count": 60,
   "id": "8295bfb8-9ead-472c-af0c-20d72de3e85a",
   "metadata": {
    "tags": []
   },
   "outputs": [
    {
     "data": {
      "text/html": [
       "<div>\n",
       "<style scoped>\n",
       "    .dataframe tbody tr th:only-of-type {\n",
       "        vertical-align: middle;\n",
       "    }\n",
       "\n",
       "    .dataframe tbody tr th {\n",
       "        vertical-align: top;\n",
       "    }\n",
       "\n",
       "    .dataframe thead th {\n",
       "        text-align: right;\n",
       "    }\n",
       "</style>\n",
       "<table border=\"1\" class=\"dataframe\">\n",
       "  <thead>\n",
       "    <tr style=\"text-align: right;\">\n",
       "      <th></th>\n",
       "      <th>Id</th>\n",
       "      <th>neg</th>\n",
       "      <th>neu</th>\n",
       "      <th>pos</th>\n",
       "      <th>compound</th>\n",
       "      <th>roberta_neg</th>\n",
       "      <th>roberta_neu</th>\n",
       "      <th>roberta_pos</th>\n",
       "      <th>ProductId</th>\n",
       "      <th>UserId</th>\n",
       "      <th>ProfileName</th>\n",
       "      <th>HelpfulnessNumerator</th>\n",
       "      <th>HelpfulnessDenominator</th>\n",
       "      <th>Score</th>\n",
       "      <th>Time</th>\n",
       "      <th>Summary</th>\n",
       "      <th>Text</th>\n",
       "    </tr>\n",
       "  </thead>\n",
       "  <tbody>\n",
       "    <tr>\n",
       "      <th>0</th>\n",
       "      <td>143296</td>\n",
       "      <td>0.071</td>\n",
       "      <td>0.65</td>\n",
       "      <td>0.279</td>\n",
       "      <td>0.9898</td>\n",
       "      <td>tensor(-1.6121)</td>\n",
       "      <td>tensor(-0.3770)</td>\n",
       "      <td>tensor(2.6006)</td>\n",
       "      <td>B0007A0AQM</td>\n",
       "      <td>A17IGFR37ISWPL</td>\n",
       "      <td>L. Smith \"Love to run\"</td>\n",
       "      <td>9</td>\n",
       "      <td>10</td>\n",
       "      <td>5</td>\n",
       "      <td>1268870400</td>\n",
       "      <td>Great for training!</td>\n",
       "      <td>Surprised of the bad reviews because of the sm...</td>\n",
       "    </tr>\n",
       "    <tr>\n",
       "      <th>1</th>\n",
       "      <td>262448</td>\n",
       "      <td>0.0</td>\n",
       "      <td>0.792</td>\n",
       "      <td>0.208</td>\n",
       "      <td>0.8487</td>\n",
       "      <td>tensor(-2.4749)</td>\n",
       "      <td>tensor(-0.5367)</td>\n",
       "      <td>tensor(3.7491)</td>\n",
       "      <td>B002B9HC6I</td>\n",
       "      <td>A8R9QNGTLV2LT</td>\n",
       "      <td>Justin</td>\n",
       "      <td>1</td>\n",
       "      <td>1</td>\n",
       "      <td>5</td>\n",
       "      <td>1258416000</td>\n",
       "      <td>good sauce</td>\n",
       "      <td>I really enjoy this sauce. It has a great heat...</td>\n",
       "    </tr>\n",
       "    <tr>\n",
       "      <th>2</th>\n",
       "      <td>233687</td>\n",
       "      <td>0.144</td>\n",
       "      <td>0.722</td>\n",
       "      <td>0.134</td>\n",
       "      <td>-0.0772</td>\n",
       "      <td>tensor(0.5837)</td>\n",
       "      <td>tensor(0.3949)</td>\n",
       "      <td>tensor(-0.9578)</td>\n",
       "      <td>B0044CZ6UO</td>\n",
       "      <td>ANYD5OP35KI3A</td>\n",
       "      <td>mommy of twins</td>\n",
       "      <td>0</td>\n",
       "      <td>0</td>\n",
       "      <td>4</td>\n",
       "      <td>1316995200</td>\n",
       "      <td>not for all kids</td>\n",
       "      <td>This particular flavor got mixed reviews from ...</td>\n",
       "    </tr>\n",
       "    <tr>\n",
       "      <th>3</th>\n",
       "      <td>88856</td>\n",
       "      <td>0.0</td>\n",
       "      <td>0.441</td>\n",
       "      <td>0.559</td>\n",
       "      <td>0.9498</td>\n",
       "      <td>tensor(-2.6191)</td>\n",
       "      <td>tensor(-0.5839)</td>\n",
       "      <td>tensor(3.9022)</td>\n",
       "      <td>B000FZRYE0</td>\n",
       "      <td>A2KCFKGL40GRNF</td>\n",
       "      <td>Marie V. Poinan</td>\n",
       "      <td>0</td>\n",
       "      <td>0</td>\n",
       "      <td>5</td>\n",
       "      <td>1342915200</td>\n",
       "      <td>Great value noodles</td>\n",
       "      <td>Well worth the money, especially on auto-ship....</td>\n",
       "    </tr>\n",
       "    <tr>\n",
       "      <th>4</th>\n",
       "      <td>411427</td>\n",
       "      <td>0.0</td>\n",
       "      <td>0.787</td>\n",
       "      <td>0.213</td>\n",
       "      <td>0.9828</td>\n",
       "      <td>tensor(-1.9126)</td>\n",
       "      <td>tensor(0.0272)</td>\n",
       "      <td>tensor(2.2634)</td>\n",
       "      <td>B000G1EO1Y</td>\n",
       "      <td>A3IYSIAKYOMKTO</td>\n",
       "      <td>Renter</td>\n",
       "      <td>0</td>\n",
       "      <td>0</td>\n",
       "      <td>5</td>\n",
       "      <td>1292371200</td>\n",
       "      <td>Your Burps Will Taste Delicious</td>\n",
       "      <td>I was expecting this soup to be more like Goya...</td>\n",
       "    </tr>\n",
       "  </tbody>\n",
       "</table>\n",
       "</div>"
      ],
      "text/plain": [
       "       Id    neg    neu    pos compound      roberta_neg      roberta_neu  \\\n",
       "0  143296  0.071   0.65  0.279   0.9898  tensor(-1.6121)  tensor(-0.3770)   \n",
       "1  262448    0.0  0.792  0.208   0.8487  tensor(-2.4749)  tensor(-0.5367)   \n",
       "2  233687  0.144  0.722  0.134  -0.0772   tensor(0.5837)   tensor(0.3949)   \n",
       "3   88856    0.0  0.441  0.559   0.9498  tensor(-2.6191)  tensor(-0.5839)   \n",
       "4  411427    0.0  0.787  0.213   0.9828  tensor(-1.9126)   tensor(0.0272)   \n",
       "\n",
       "       roberta_pos   ProductId          UserId             ProfileName  \\\n",
       "0   tensor(2.6006)  B0007A0AQM  A17IGFR37ISWPL  L. Smith \"Love to run\"   \n",
       "1   tensor(3.7491)  B002B9HC6I   A8R9QNGTLV2LT                  Justin   \n",
       "2  tensor(-0.9578)  B0044CZ6UO   ANYD5OP35KI3A          mommy of twins   \n",
       "3   tensor(3.9022)  B000FZRYE0  A2KCFKGL40GRNF         Marie V. Poinan   \n",
       "4   tensor(2.2634)  B000G1EO1Y  A3IYSIAKYOMKTO                  Renter   \n",
       "\n",
       "   HelpfulnessNumerator  HelpfulnessDenominator  Score        Time  \\\n",
       "0                     9                      10      5  1268870400   \n",
       "1                     1                       1      5  1258416000   \n",
       "2                     0                       0      4  1316995200   \n",
       "3                     0                       0      5  1342915200   \n",
       "4                     0                       0      5  1292371200   \n",
       "\n",
       "                           Summary  \\\n",
       "0              Great for training!   \n",
       "1                       good sauce   \n",
       "2                 not for all kids   \n",
       "3              Great value noodles   \n",
       "4  Your Burps Will Taste Delicious   \n",
       "\n",
       "                                                Text  \n",
       "0  Surprised of the bad reviews because of the sm...  \n",
       "1  I really enjoy this sauce. It has a great heat...  \n",
       "2  This particular flavor got mixed reviews from ...  \n",
       "3  Well worth the money, especially on auto-ship....  \n",
       "4  I was expecting this soup to be more like Goya...  "
      ]
     },
     "execution_count": 60,
     "metadata": {},
     "output_type": "execute_result"
    }
   ],
   "source": [
    "results_df.head()"
   ]
  },
  {
   "cell_type": "markdown",
   "id": "632f19a9-d3f8-4bec-a194-116a4051a334",
   "metadata": {},
   "source": [
    "## 3. Compare scores between models"
   ]
  },
  {
   "cell_type": "code",
   "execution_count": 61,
   "id": "b86825bc-8322-4bb1-931d-48ff5b4ab670",
   "metadata": {
    "tags": []
   },
   "outputs": [
    {
     "data": {
      "text/plain": [
       "Index(['Id', 'neg', 'neu', 'pos', 'compound', 'roberta_neg', 'roberta_neu',\n",
       "       'roberta_pos', 'ProductId', 'UserId', 'ProfileName',\n",
       "       'HelpfulnessNumerator', 'HelpfulnessDenominator', 'Score', 'Time',\n",
       "       'Summary', 'Text'],\n",
       "      dtype='object')"
      ]
     },
     "execution_count": 61,
     "metadata": {},
     "output_type": "execute_result"
    }
   ],
   "source": [
    "results_df.columns"
   ]
  },
  {
   "cell_type": "code",
   "execution_count": 64,
   "id": "98a4c959-b3ae-4bc6-ad48-bef3e15cc2a0",
   "metadata": {
    "tags": []
   },
   "outputs": [
    {
     "name": "stderr",
     "output_type": "stream",
     "text": [
      "C:\\Users\\geopa\\.conda\\envs\\GSPT\\lib\\site-packages\\numpy\\lib\\arraysetops.py:608: RuntimeWarning: invalid value encountered in equal\n",
      "  mask |= (ar1 == a)\n",
      "C:\\Users\\geopa\\.conda\\envs\\GSPT\\lib\\site-packages\\numpy\\lib\\arraysetops.py:608: RuntimeWarning: invalid value encountered in equal\n",
      "  mask |= (ar1 == a)\n",
      "C:\\Users\\geopa\\.conda\\envs\\GSPT\\lib\\site-packages\\numpy\\lib\\arraysetops.py:608: RuntimeWarning: invalid value encountered in equal\n",
      "  mask |= (ar1 == a)\n",
      "C:\\Users\\geopa\\.conda\\envs\\GSPT\\lib\\site-packages\\numpy\\lib\\arraysetops.py:608: RuntimeWarning: invalid value encountered in equal\n",
      "  mask |= (ar1 == a)\n"
     ]
    },
    {
     "ename": "TypeError",
     "evalue": "The x variable is categorical, but one of ['numeric', 'datetime'] is required",
     "output_type": "error",
     "traceback": [
      "\u001b[1;31m---------------------------------------------------------------------------\u001b[0m",
      "\u001b[1;31mTypeError\u001b[0m                                 Traceback (most recent call last)",
      "Cell \u001b[1;32mIn [64], line 1\u001b[0m\n\u001b[1;32m----> 1\u001b[0m \u001b[43msns\u001b[49m\u001b[38;5;241;43m.\u001b[39;49m\u001b[43mpairplot\u001b[49m\u001b[43m(\u001b[49m\u001b[43mdata\u001b[49m\u001b[38;5;241;43m=\u001b[39;49m\u001b[43mresults_df\u001b[49m\u001b[43m,\u001b[49m\u001b[43m \u001b[49m\n\u001b[0;32m      2\u001b[0m \u001b[43m             \u001b[49m\u001b[38;5;28;43mvars\u001b[39;49m\u001b[38;5;241;43m=\u001b[39;49m\u001b[43m[\u001b[49m\u001b[38;5;124;43m'\u001b[39;49m\u001b[38;5;124;43mneg\u001b[39;49m\u001b[38;5;124;43m'\u001b[39;49m\u001b[43m,\u001b[49m\u001b[43m \u001b[49m\u001b[38;5;124;43m'\u001b[39;49m\u001b[38;5;124;43mneu\u001b[39;49m\u001b[38;5;124;43m'\u001b[39;49m\u001b[43m,\u001b[49m\u001b[43m \u001b[49m\u001b[38;5;124;43m'\u001b[39;49m\u001b[38;5;124;43mpos\u001b[39;49m\u001b[38;5;124;43m'\u001b[39;49m\u001b[43m,\u001b[49m\u001b[43m \u001b[49m\u001b[38;5;124;43m'\u001b[39;49m\u001b[38;5;124;43mroberta_neg\u001b[39;49m\u001b[38;5;124;43m'\u001b[39;49m\u001b[43m,\u001b[49m\u001b[43m \u001b[49m\u001b[38;5;124;43m'\u001b[39;49m\u001b[38;5;124;43mroberta_neu\u001b[39;49m\u001b[38;5;124;43m'\u001b[39;49m\u001b[43m,\u001b[49m\n\u001b[0;32m      3\u001b[0m \u001b[43m                   \u001b[49m\u001b[38;5;124;43m'\u001b[39;49m\u001b[38;5;124;43mroberta_pos\u001b[39;49m\u001b[38;5;124;43m'\u001b[39;49m\u001b[43m]\u001b[49m\u001b[43m,\u001b[49m\u001b[43m \u001b[49m\n\u001b[0;32m      4\u001b[0m \u001b[43m             \u001b[49m\u001b[43mhue\u001b[49m\u001b[38;5;241;43m=\u001b[39;49m\u001b[38;5;124;43m'\u001b[39;49m\u001b[38;5;124;43mScore\u001b[39;49m\u001b[38;5;124;43m'\u001b[39;49m\u001b[43m,\u001b[49m\u001b[43m \u001b[49m\n\u001b[0;32m      5\u001b[0m \u001b[43m             \u001b[49m\u001b[43mpalette\u001b[49m\u001b[38;5;241;43m=\u001b[39;49m\u001b[38;5;124;43m'\u001b[39;49m\u001b[38;5;124;43mtab10\u001b[39;49m\u001b[38;5;124;43m'\u001b[39;49m\u001b[43m)\u001b[49m\n\u001b[0;32m      6\u001b[0m plt\u001b[38;5;241m.\u001b[39mshow()\n",
      "File \u001b[1;32m~\\.conda\\envs\\GSPT\\lib\\site-packages\\seaborn\\axisgrid.py:2148\u001b[0m, in \u001b[0;36mpairplot\u001b[1;34m(data, hue, hue_order, palette, vars, x_vars, y_vars, kind, diag_kind, markers, height, aspect, corner, dropna, plot_kws, diag_kws, grid_kws, size)\u001b[0m\n\u001b[0;32m   2146\u001b[0m     diag_kws\u001b[38;5;241m.\u001b[39msetdefault(\u001b[38;5;124m\"\u001b[39m\u001b[38;5;124mfill\u001b[39m\u001b[38;5;124m\"\u001b[39m, \u001b[38;5;28;01mTrue\u001b[39;00m)\n\u001b[0;32m   2147\u001b[0m     diag_kws\u001b[38;5;241m.\u001b[39msetdefault(\u001b[38;5;124m\"\u001b[39m\u001b[38;5;124mwarn_singular\u001b[39m\u001b[38;5;124m\"\u001b[39m, \u001b[38;5;28;01mFalse\u001b[39;00m)\n\u001b[1;32m-> 2148\u001b[0m     grid\u001b[38;5;241m.\u001b[39mmap_diag(kdeplot, \u001b[38;5;241m*\u001b[39m\u001b[38;5;241m*\u001b[39mdiag_kws)\n\u001b[0;32m   2150\u001b[0m \u001b[38;5;66;03m# Maybe plot on the off-diagonals\u001b[39;00m\n\u001b[0;32m   2151\u001b[0m \u001b[38;5;28;01mif\u001b[39;00m diag_kind \u001b[38;5;129;01mis\u001b[39;00m \u001b[38;5;129;01mnot\u001b[39;00m \u001b[38;5;28;01mNone\u001b[39;00m:\n",
      "File \u001b[1;32m~\\.conda\\envs\\GSPT\\lib\\site-packages\\seaborn\\axisgrid.py:1507\u001b[0m, in \u001b[0;36mPairGrid.map_diag\u001b[1;34m(self, func, **kwargs)\u001b[0m\n\u001b[0;32m   1505\u001b[0m     plot_kwargs\u001b[38;5;241m.\u001b[39msetdefault(\u001b[38;5;124m\"\u001b[39m\u001b[38;5;124mhue_order\u001b[39m\u001b[38;5;124m\"\u001b[39m, \u001b[38;5;28mself\u001b[39m\u001b[38;5;241m.\u001b[39m_hue_order)\n\u001b[0;32m   1506\u001b[0m     plot_kwargs\u001b[38;5;241m.\u001b[39msetdefault(\u001b[38;5;124m\"\u001b[39m\u001b[38;5;124mpalette\u001b[39m\u001b[38;5;124m\"\u001b[39m, \u001b[38;5;28mself\u001b[39m\u001b[38;5;241m.\u001b[39m_orig_palette)\n\u001b[1;32m-> 1507\u001b[0m     func(x\u001b[38;5;241m=\u001b[39mvector, \u001b[38;5;241m*\u001b[39m\u001b[38;5;241m*\u001b[39mplot_kwargs)\n\u001b[0;32m   1508\u001b[0m     ax\u001b[38;5;241m.\u001b[39mlegend_ \u001b[38;5;241m=\u001b[39m \u001b[38;5;28;01mNone\u001b[39;00m\n\u001b[0;32m   1510\u001b[0m \u001b[38;5;28mself\u001b[39m\u001b[38;5;241m.\u001b[39m_add_axis_labels()\n",
      "File \u001b[1;32m~\\.conda\\envs\\GSPT\\lib\\site-packages\\seaborn\\distributions.py:1695\u001b[0m, in \u001b[0;36mkdeplot\u001b[1;34m(data, x, y, hue, weights, palette, hue_order, hue_norm, color, fill, multiple, common_norm, common_grid, cumulative, bw_method, bw_adjust, warn_singular, log_scale, levels, thresh, gridsize, cut, clip, legend, cbar, cbar_ax, cbar_kws, ax, **kwargs)\u001b[0m\n\u001b[0;32m   1692\u001b[0m \u001b[38;5;28;01mif\u001b[39;00m ax \u001b[38;5;129;01mis\u001b[39;00m \u001b[38;5;28;01mNone\u001b[39;00m:\n\u001b[0;32m   1693\u001b[0m     ax \u001b[38;5;241m=\u001b[39m plt\u001b[38;5;241m.\u001b[39mgca()\n\u001b[1;32m-> 1695\u001b[0m \u001b[43mp\u001b[49m\u001b[38;5;241;43m.\u001b[39;49m\u001b[43m_attach\u001b[49m\u001b[43m(\u001b[49m\u001b[43max\u001b[49m\u001b[43m,\u001b[49m\u001b[43m \u001b[49m\u001b[43mallowed_types\u001b[49m\u001b[38;5;241;43m=\u001b[39;49m\u001b[43m[\u001b[49m\u001b[38;5;124;43m\"\u001b[39;49m\u001b[38;5;124;43mnumeric\u001b[39;49m\u001b[38;5;124;43m\"\u001b[39;49m\u001b[43m,\u001b[49m\u001b[43m \u001b[49m\u001b[38;5;124;43m\"\u001b[39;49m\u001b[38;5;124;43mdatetime\u001b[39;49m\u001b[38;5;124;43m\"\u001b[39;49m\u001b[43m]\u001b[49m\u001b[43m,\u001b[49m\u001b[43m \u001b[49m\u001b[43mlog_scale\u001b[49m\u001b[38;5;241;43m=\u001b[39;49m\u001b[43mlog_scale\u001b[49m\u001b[43m)\u001b[49m\n\u001b[0;32m   1697\u001b[0m method \u001b[38;5;241m=\u001b[39m ax\u001b[38;5;241m.\u001b[39mfill_between \u001b[38;5;28;01mif\u001b[39;00m fill \u001b[38;5;28;01melse\u001b[39;00m ax\u001b[38;5;241m.\u001b[39mplot\n\u001b[0;32m   1698\u001b[0m color \u001b[38;5;241m=\u001b[39m _default_color(method, hue, color, kwargs)\n",
      "File \u001b[1;32m~\\.conda\\envs\\GSPT\\lib\\site-packages\\seaborn\\_oldcore.py:1211\u001b[0m, in \u001b[0;36mVectorPlotter._attach\u001b[1;34m(self, obj, allowed_types, log_scale)\u001b[0m\n\u001b[0;32m   1206\u001b[0m     \u001b[38;5;28;01mif\u001b[39;00m var_type \u001b[38;5;129;01mnot\u001b[39;00m \u001b[38;5;129;01min\u001b[39;00m allowed_types:\n\u001b[0;32m   1207\u001b[0m         err \u001b[38;5;241m=\u001b[39m (\n\u001b[0;32m   1208\u001b[0m             \u001b[38;5;124mf\u001b[39m\u001b[38;5;124m\"\u001b[39m\u001b[38;5;124mThe \u001b[39m\u001b[38;5;132;01m{\u001b[39;00mvar\u001b[38;5;132;01m}\u001b[39;00m\u001b[38;5;124m variable is \u001b[39m\u001b[38;5;132;01m{\u001b[39;00mvar_type\u001b[38;5;132;01m}\u001b[39;00m\u001b[38;5;124m, but one of \u001b[39m\u001b[38;5;124m\"\u001b[39m\n\u001b[0;32m   1209\u001b[0m             \u001b[38;5;124mf\u001b[39m\u001b[38;5;124m\"\u001b[39m\u001b[38;5;132;01m{\u001b[39;00mallowed_types\u001b[38;5;132;01m}\u001b[39;00m\u001b[38;5;124m is required\u001b[39m\u001b[38;5;124m\"\u001b[39m\n\u001b[0;32m   1210\u001b[0m         )\n\u001b[1;32m-> 1211\u001b[0m         \u001b[38;5;28;01mraise\u001b[39;00m \u001b[38;5;167;01mTypeError\u001b[39;00m(err)\n\u001b[0;32m   1213\u001b[0m \u001b[38;5;66;03m# -- Get axis objects for each row in plot_data for type conversions and scaling\u001b[39;00m\n\u001b[0;32m   1215\u001b[0m facet_dim \u001b[38;5;241m=\u001b[39m {\u001b[38;5;124m\"\u001b[39m\u001b[38;5;124mx\u001b[39m\u001b[38;5;124m\"\u001b[39m: \u001b[38;5;124m\"\u001b[39m\u001b[38;5;124mcol\u001b[39m\u001b[38;5;124m\"\u001b[39m, \u001b[38;5;124m\"\u001b[39m\u001b[38;5;124my\u001b[39m\u001b[38;5;124m\"\u001b[39m: \u001b[38;5;124m\"\u001b[39m\u001b[38;5;124mrow\u001b[39m\u001b[38;5;124m\"\u001b[39m}\n",
      "\u001b[1;31mTypeError\u001b[0m: The x variable is categorical, but one of ['numeric', 'datetime'] is required"
     ]
    },
    {
     "data": {
      "image/png": "[encoded data removed]",
      "text/plain": [
       "<Figure size 1500x1500 with 42 Axes>"
      ]
     },
     "metadata": {},
     "output_type": "display_data"
    }
   ],
   "source": [
    "sns.pairplot(data=results_df, \n",
    "             vars=['neg', 'neu', 'pos', 'roberta_neg', 'roberta_neu',\n",
    "                   'roberta_pos'], \n",
    "             hue='Score', \n",
    "             palette='tab10')\n",
    "plt.show()"
   ]
  },
  {
   "cell_type": "markdown",
   "id": "18674769-b70b-4fab-a5de-2a4b85044d89",
   "metadata": {},
   "source": [
    "## 4. Review Examples"
   ]
  },
  {
   "cell_type": "markdown",
   "id": "77ae1998-431a-42ea-9a35-af2c891b8bcb",
   "metadata": {},
   "source": [
    "Positive sentiment 1-star review"
   ]
  },
  {
   "cell_type": "code",
   "execution_count": 71,
   "id": "6ba3f52c-7f5c-4ab9-b668-eb0b35c2bb70",
   "metadata": {
    "tags": []
   },
   "outputs": [
    {
     "data": {
      "text/plain": [
       "\"I'm a big fan of the Wolfgang Puck Chicken and Egg Noodle soup so I decided to try this. There were about 7 tiny pieces of dumpling, 2 tiny pieces of chicken, and maybe 12 tiny pieces of carrots. Expect to be very hungry after eating a can of this.\""
      ]
     },
     "execution_count": 71,
     "metadata": {},
     "output_type": "execute_result"
    }
   ],
   "source": [
    "results_df.query('Score == 1').sort_values('roberta_pos', ascending=False)[\"Text\"].values[0]\n",
    "# subtle irony is a big difficult to detect"
   ]
  },
  {
   "cell_type": "code",
   "execution_count": 74,
   "id": "dc7d1e7d-ac46-43a1-9740-de74bde5a65b",
   "metadata": {
    "tags": []
   },
   "outputs": [
    {
     "data": {
      "text/plain": [
       "'Kettle chips now look, feel and taste like Lays.  These chips used to be my favorite when it was crinkle cut and hefty.  Now, no longer my favorite.'"
      ]
     },
     "execution_count": 74,
     "metadata": {},
     "output_type": "execute_result"
    }
   ],
   "source": [
    "results_df.query('Score == 1').sort_values('pos', ascending=False)[\"Text\"].values[0]"
   ]
  },
  {
   "cell_type": "markdown",
   "id": "2c58d3c9-92a3-4e28-af86-c209c52b5928",
   "metadata": {},
   "source": [
    "Negative sentiment 5 star review"
   ]
  },
  {
   "cell_type": "code",
   "execution_count": 76,
   "id": "86c9c50d-817c-4cb9-8c77-01446890a15d",
   "metadata": {
    "tags": []
   },
   "outputs": [
    {
     "data": {
      "text/plain": [
       "'I bought these for myself. Running around mommy and working I don\\'t eat because I don\\'t have time. Then my steam runs out and I think \"why the hell didn\\'t I eat?\" My mom is a type 1 diabetic and she found these and now she can\\'t keep her hands off of them. She said she doesn\\'t feel hungry as quick. Now my husband has found them. Geez! I have had one package that was a little more gooey but most of the time they are drier tasting. Personally I don\\'t want it to be gooey. I am on a subscription of these through Amazon and I need to increase the amount. My kids haven\\'t tried them...I am sure they are next except they are picky eaters.'"
      ]
     },
     "execution_count": 76,
     "metadata": {},
     "output_type": "execute_result"
    }
   ],
   "source": [
    "results_df.query('Score == 5').sort_values('roberta_neg', ascending=False)[\"Text\"].values[0]"
   ]
  },
  {
   "cell_type": "code",
   "execution_count": 77,
   "id": "2e0ee6a0-3502-478a-bc30-8c8a348decc8",
   "metadata": {
    "tags": []
   },
   "outputs": [
    {
     "data": {
      "text/plain": [
       "'Our boxer had horrible skin alleges and threw up all other foods starting about age 7.  Since changing she has no allergy medications and only has stomach issues when she eats food my kids drop!  I highly recommend this!'"
      ]
     },
     "execution_count": 77,
     "metadata": {},
     "output_type": "execute_result"
    }
   ],
   "source": [
    "results_df.query('Score == 5').sort_values('neg', ascending=False)[\"Text\"].values[0]"
   ]
  },
  {
   "cell_type": "markdown",
   "id": "f86a5493-443f-4559-997a-bb6b4ed44bfd",
   "metadata": {},
   "source": [
    "## 5. Extra: The Transformers Pipeline"
   ]
  },
  {
   "cell_type": "code",
   "execution_count": 79,
   "id": "e20c3276-4f0c-4ef7-9188-c497d1954891",
   "metadata": {
    "tags": []
   },
   "outputs": [
    {
     "name": "stderr",
     "output_type": "stream",
     "text": [
      "No model was supplied, defaulted to distilbert-base-uncased-finetuned-sst-2-english and revision af0f99b (https://huggingface.co/distilbert-base-uncased-finetuned-sst-2-english).\n",
      "Using a pipeline without specifying a model name and revision in production is not recommended.\n",
      "WARNING[XFORMERS]: xFormers can't load C++/CUDA extensions. xFormers was built for:\n",
      "    PyTorch 2.0.1+cu118 with CUDA 1108 (you have 2.0.1+cpu)\n",
      "    Python  3.10.11 (you have 3.10.4)\n",
      "  Please reinstall xformers (see https://github.com/facebookresearch/xformers#installing-xformers)\n",
      "  Memory-efficient attention, SwiGLU, sparse and more won't be available.\n",
      "  Set XFORMERS_MORE_DETAILS=1 for more details\n"
     ]
    }
   ],
   "source": [
    "from transformers import pipeline\n",
    "\n",
    "sent_pipeline = pipeline('sentiment-analysis')"
   ]
  }
 ],
 "metadata": {
  "kernelspec": {
   "display_name": "Python 3 (ipykernel)",
   "language": "python",
   "name": "python3"
  },
  "language_info": {
   "codemirror_mode": {
    "name": "ipython",
    "version": 3
   },
   "file_extension": ".py",
   "mimetype": "text/x-python",
   "name": "python",
   "nbconvert_exporter": "python",
   "pygments_lexer": "ipython3",
   "version": "3.10.4"
  }
 },
 "nbformat": 4,
 "nbformat_minor": 5
}
